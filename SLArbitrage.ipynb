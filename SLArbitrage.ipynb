{
 "cells": [
  {
   "cell_type": "markdown",
   "id": "94963256-796a-4901-8821-eb5fe026f884",
   "metadata": {},
   "source": [
    "This bot will being with equal positions of both a 3s and 3l leveraged token on kucoin \\\n",
    "When the position gains X% it will trigger a sell\\\n",
    "When a sell is triggered the resulting usdt will take profit then purchase back in immediately 50/50\\\n",
    "Every time it re-buys, update buy-in frame"
   ]
  },
  {
   "cell_type": "code",
   "execution_count": 421,
   "id": "a528cf95-168d-4458-83e2-e4c8f86202fe",
   "metadata": {
    "tags": []
   },
   "outputs": [],
   "source": [
    "from dotenv import load_dotenv\n",
    "import os\n",
    "from pathlib import Path\n",
    "import requests\n",
    "from requests import Request, Session\n",
    "import datetime\n",
    "from requests.exceptions import ConnectionError, Timeout, TooManyRedirects\n",
    "import json\n",
    "import pandas as pd\n",
    "import time\n",
    "from kucoin.trade.trade import TradeData\n",
    "from kucoin.client import Trade, User, Market\n",
    "import base64\n",
    "import hmac\n",
    "import hashlib"
   ]
  },
  {
   "cell_type": "code",
   "execution_count": 422,
   "id": "08e97566-9873-4bed-8669-cb67d8fcd135",
   "metadata": {
    "tags": []
   },
   "outputs": [],
   "source": [
    "load_dotenv();"
   ]
  },
  {
   "cell_type": "code",
   "execution_count": 423,
   "id": "2235682b-98fd-4414-ad72-ffa1b6d460f2",
   "metadata": {
    "tags": []
   },
   "outputs": [],
   "source": [
    "api_key = os.getenv('KUCOIN_API_KEY')\n",
    "api_secret = os.getenv('KUCOIN_SECRET_KEY')\n",
    "api_passphrase = os.getenv('KUCOIN_PASSPHRASE')"
   ]
  },
  {
   "cell_type": "code",
   "execution_count": 424,
   "id": "b999a73f-037b-4396-91da-833b6be9b5ab",
   "metadata": {
    "tags": []
   },
   "outputs": [],
   "source": [
    "Tclient = Trade(api_key, api_secret, api_passphrase)\n",
    "Uclient = User(api_key, api_secret, api_passphrase)\n",
    "Mclient = Market(api_key, api_secret, api_passphrase)"
   ]
  },
  {
   "cell_type": "code",
   "execution_count": 410,
   "id": "bba7456a-73a4-43fa-abaf-d123ef1e86a5",
   "metadata": {},
   "outputs": [],
   "source": [
    "def kucoin_func(ticker):\n",
    "    # Request data from api\n",
    "    crypto = requests.get(f'https://api.kucoin.com/api/v1/market/orderbook/level1?symbol={ticker}-USDT')\n",
    "    \n",
    "    # Import api data as json    \n",
    "    crypto_j = crypto.json()\n",
    "    \n",
    "    # Create pandas df from json file    \n",
    "    crypto_df = pd.DataFrame(crypto_j['data'], index=[0])\n",
    "    \n",
    "    # Rename columns\n",
    "    crypto_df = pd.DataFrame(crypto_df['bestBid']).rename(columns = {'bestBid':f'Bid {ticker}'})\n",
    "    \n",
    "    return crypto_df"
   ]
  },
  {
   "cell_type": "code",
   "execution_count": 411,
   "id": "5c615205-cdab-43fa-ac8b-88387b44f200",
   "metadata": {},
   "outputs": [],
   "source": [
    "#List of dictionaries for long and short tokens\n",
    "leverage_tokens = {'long_tokens':['BTC3L','AAVE3L','ADA3L','ATOM3L','AVAX3L',\n",
    "                                  'AXS3L','BCH3L','BNB3L','DOGE3L','DOT3L',\n",
    "                                  'EOS3L','ETH3L','FTM3L','GALAX3L','LINK3L',\n",
    "                                  'LTC3L','LUNA3L','MANA3L','MATIC3L','NEAR3L',\n",
    "                                 'SAND3L','SOL3L','SUSHI3L','UNI3L','VET3L','XRP3L'\n",
    "                                 ],\n",
    "          'short_tokens':['BTC3S','AAVE3S','ADA3S','ATOM3S','AVAX3S',\n",
    "                                  'AXS3S','BCH3S','BNB3S','DOGE3S','DOT3S',\n",
    "                                  'EOS3S','ETH3S','FTM3S','GALAX3S','LINK3S',\n",
    "                                  'LTC3S','LUNA3S','MANA3S','MATIC3S','NEAR3S',\n",
    "                                 'SAND3S','SOL3S','SUSHI3S','UNI3S','VET3S','XRP3S']}"
   ]
  },
  {
   "cell_type": "code",
   "execution_count": 412,
   "id": "a155114c-e157-49ca-80fa-a470aaa2c0d2",
   "metadata": {
    "tags": []
   },
   "outputs": [],
   "source": [
    "#Function While loop for retrieval of best bids\n",
    "short_buy_in = pd.DataFrame({'BTC3S': [1.7383],\n",
    " 'AAVE3S': [12.0174],\n",
    " 'ADA3S': [1.3684],\n",
    " 'ATOM3S': [1.3447],\n",
    " 'AVAX3S': [2.1905],\n",
    " 'AXS3S': [3.9006],\n",
    " 'BCH3S': [6.7773],\n",
    " 'BNB3S': [6.7283],\n",
    " 'DOGE3S': [6.37],\n",
    " 'DOT3S': [2.9218],\n",
    " 'EOS3S': [3.0024],\n",
    " 'ETH3S': [0.016099],\n",
    " 'FTM3S': [0.3117],\n",
    " 'GALAX3S': [23.7855],\n",
    " 'LINK3S': [1.3273],\n",
    " 'LTC3S': [1.4896],\n",
    " 'LUNA3S': [0.020995],\n",
    " 'MANA3S': [2.1292],\n",
    " 'MATIC3S': [0.3443],\n",
    " 'NEAR3S': [0.003693],\n",
    " 'SAND3S': [0.070237],\n",
    " 'SOL3S': [2.6776],\n",
    " 'SUSHI3S': [9.3603],\n",
    " 'UNI3S': [11.5251],\n",
    " 'VET3S': [1.5435],\n",
    " 'XRP3S': [26.8833]}, index=[0])\n",
    "\n",
    "long_buy_in = pd.DataFrame({'BTC3L': [0.197],\n",
    " 'AAVE3L': [0.7447],\n",
    " 'ADA3L': [0.051602],\n",
    " 'ATOM3L': [1.1956],\n",
    " 'AVAX3L': [1.9968],\n",
    " 'AXS3L': [1.3251],\n",
    " 'BCH3L': [0.1033],\n",
    " 'BNB3L': [3.7316],\n",
    " 'DOGE3L': [0.2798],\n",
    " 'DOT3L': [0.779],\n",
    " 'EOS3L': [0.025661],\n",
    " 'ETH3L': [0.581],\n",
    " 'FTM3L': [1.012],\n",
    " 'GALAX3L': [0.2524],\n",
    " 'LINK3L': [2.663],\n",
    " 'LTC3L': [0.2373],\n",
    " 'LUNA3L': [5.2303],\n",
    " 'MANA3L': [1.2569],\n",
    " 'MATIC3L': [4.3482],\n",
    " 'NEAR3L': [6.8523],\n",
    " 'SAND3L': [7.5524],\n",
    " 'SOL3L': [0.6442],\n",
    " 'SUSHI3L': [0.3155],\n",
    " 'UNI3L': [0.6071],\n",
    " 'VET3L': [0.01042],\n",
    " 'XRP3L': [0.1663]}, index=[0])"
   ]
  },
  {
   "cell_type": "code",
   "execution_count": 432,
   "id": "b3dc0c24-fbc2-40d6-a305-712adacae347",
   "metadata": {
    "tags": []
   },
   "outputs": [],
   "source": [
    "long_df = pd.DataFrame().astype(float)\n",
    "short_df = pd.DataFrame().astype(float)\n",
    "long_rename = pd.DataFrame()\n",
    "short_rename = pd.DataFrame()\n",
    "leverage_return = None\n",
    "pos_returns = None\n",
    "\n",
    "while leverage_return is None:\n",
    "    try:\n",
    "        #Loop\n",
    "        for x in leverage_tokens:\n",
    "    \n",
    "# Run function for each token in list and add to func dictionary\n",
    "            for y in leverage_tokens['short_tokens']:\n",
    "     \n",
    "                short_df[y] = pd.DataFrame(kucoin_func(y)).astype(float)\n",
    "                short_sub = short_df.sub(short_buy_in)\n",
    "                short_return = short_sub.divide(short_buy_in)\n",
    "                short_rename[y[:-2]] = short_return[y]\n",
    "    \n",
    "            for z in leverage_tokens['long_tokens']:\n",
    "                long_df[z] = pd.DataFrame(kucoin_func(z)).astype(float)\n",
    "                long_sub = long_df.sub(long_buy_in)\n",
    "                long_return = long_sub.divide(long_buy_in)\n",
    "                long_rename[z[:-2]] = long_return[z]\n",
    "    \n",
    "            leverage_return = long_rename.add(short_rename, axis = 0).T\n",
    "            leverage_return = (leverage_return/2)*100\n",
    "            pos_return = leverage_return.loc[leverage_return[0] >= 1.2]\n",
    "    except:\n",
    "        pass"
   ]
  },
  {
   "cell_type": "code",
   "execution_count": 433,
   "id": "39c614d6-0473-4ac6-b6c7-f7bd88f057c1",
   "metadata": {
    "tags": []
   },
   "outputs": [
    {
     "name": "stdout",
     "output_type": "stream",
     "text": [
      "               0\n",
      "BTC    -0.258027\n",
      "AAVE   -1.322102\n",
      "ADA    -2.460761\n",
      "ATOM    0.752421\n",
      "AVAX   -2.067476\n",
      "AXS    -2.225254\n",
      "BCH     0.019465\n",
      "BNB    -3.122078\n",
      "DOGE    1.955469\n",
      "DOT    -1.959401\n",
      "EOS    -1.126450\n",
      "ETH    -1.340675\n",
      "FTM    12.748407\n",
      "GALAX  -4.313926\n",
      "LINK   -0.269946\n",
      "LTC    -2.255332\n",
      "LUNA    0.826038\n",
      "MANA   -2.002074\n",
      "MATIC  -7.377335\n",
      "NEAR    1.097689\n",
      "SAND   -0.066576\n",
      "SOL     1.549708\n",
      "SUSHI   0.949455\n",
      "UNI    -1.329433\n",
      "VET    -3.349950\n",
      "XRP    -1.231488\n",
      "              0\n",
      "DOGE   1.955469\n",
      "FTM   12.748407\n",
      "SOL    1.549708\n"
     ]
    }
   ],
   "source": [
    "print(leverage_return)\n",
    "print(pos_return)"
   ]
  },
  {
   "cell_type": "code",
   "execution_count": 416,
   "id": "2fec5e28-25a2-411d-ad9a-204173c41486",
   "metadata": {
    "tags": []
   },
   "outputs": [],
   "source": [
    "account = Uclient.get_account_list()\n",
    "account_df = pd.DataFrame(account).set_index('currency')\n",
    "account_df = account_df.loc[account_df['type']=='trade']\n",
    "account_df = pd.DataFrame(account_df['balance'].astype(float), index = account_df.index)\n",
    "account_df = account_df.loc[account_df['balance'] > 0]\n",
    "account_dict = account_df.to_dict()\n",
    "account_dict = account_dict['balance']\n",
    "\n",
    "balance_vals = {}\n",
    "\n",
    "balance_3s_df = pd.DataFrame().astype(float)\n",
    "balance_3l_df = pd.DataFrame().astype(float)\n",
    "\n",
    "for x in leverage_return.index:        \n",
    "    if leverage_return.loc[x].values.astype(float) >= 1.2:\n",
    "        x_long = x+'3L'\n",
    "        x_short = x+'3S'\n",
    "        x_long_account = str(account_dict[x_long]*.99)\n",
    "        x_short_account = str(account_dict[x_short]*.99)\n",
    "        #Tclient.create_market_order(x_short+'-USDT','sell', size = x_short_account)\n",
    "        #Tclient.create_market_order(x_long+'-USDT','sell', size = x_long_account)"
   ]
  }
 ],
 "metadata": {
  "kernelspec": {
   "display_name": "Python 3 (ipykernel)",
   "language": "python",
   "name": "python3"
  },
  "language_info": {
   "codemirror_mode": {
    "name": "ipython",
    "version": 3
   },
   "file_extension": ".py",
   "mimetype": "text/x-python",
   "name": "python",
   "nbconvert_exporter": "python",
   "pygments_lexer": "ipython3",
   "version": "3.8.8"
  }
 },
 "nbformat": 4,
 "nbformat_minor": 5
}
